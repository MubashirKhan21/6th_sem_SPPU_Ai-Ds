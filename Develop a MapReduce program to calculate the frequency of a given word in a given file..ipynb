{
 "cells": [
  {
   "cell_type": "code",
   "execution_count": 2,
   "id": "32eaf3af-38a9-4d69-9dca-1c4d5fbd0140",
   "metadata": {},
   "outputs": [
    {
     "name": "stdout",
     "output_type": "stream",
     "text": [
      "Text file 'sample.txt' created successfully!\n"
     ]
    }
   ],
   "source": [
    "text = \"\"\"MapReduce is a programming model for processing large data sets.\n",
    "          It consists of a Map function that processes and filters data.\n",
    "          A Reduce function aggregates the results and gives final output.\n",
    "          The MapReduce framework is used in distributed computing.\"\"\"\n",
    "\n",
    "with open(\"sample.txt\", \"w\") as file:\n",
    "    file.write(text)\n",
    "    \n",
    "print(\"Text file 'sample.txt' created successfully!\")"
   ]
  },
  {
   "cell_type": "code",
   "execution_count": 1,
   "id": "7f3ab95d-2553-41f5-9f8d-0f2304068908",
   "metadata": {},
   "outputs": [
    {
     "name": "stdout",
     "output_type": "stream",
     "text": [
      "Word Frequency: {'mapreduce': 2, 'is': 2, 'a': 3, 'programming': 1, 'model': 1, 'for': 1, 'processing': 1, 'large': 1, 'data': 1, 'sets.': 1, 'it': 1, 'consists': 1, 'of': 1, 'map': 1, 'function': 2, 'that': 1, 'processes': 1, 'and': 2, 'filters': 1, 'data.': 1, 'reduce': 1, 'aggregates': 1, 'the': 2, 'results': 1, 'gives': 1, 'final': 1, 'output.': 1, 'framework': 1, 'used': 1, 'in': 1, 'distributed': 1, 'computing.': 1}\n"
     ]
    }
   ],
   "source": [
    "# Mapper function\n",
    "def mapper(line):\n",
    "    words = line.strip().split()\n",
    "    return [(word.lower(), 1) for word in words]\n",
    "\n",
    "# Reducer function\n",
    "def reducer(pairs):\n",
    "    word_counts = {}\n",
    "    for word, count in pairs:\n",
    "        word_counts[word] = word_counts.get(word, 0) + count\n",
    "    return word_counts\n",
    "\n",
    "# Read file and apply MapReduce\n",
    "def map_reduce(filename):\n",
    "    with open(filename, \"r\") as file:\n",
    "        lines = file.readlines()\n",
    "\n",
    "    # Sequential mapping (avoiding multiprocessing for Jupyter)\n",
    "    mapped_values = []\n",
    "    for line in lines:\n",
    "        mapped_values.extend(mapper(line))\n",
    "\n",
    "    # Reduce phase\n",
    "    word_frequencies = reducer(mapped_values)\n",
    "    \n",
    "    return word_frequencies\n",
    "\n",
    "# Run the program\n",
    "word_count_result = map_reduce(\"sample.txt\")\n",
    "print(\"Word Frequency:\", word_count_result)"
   ]
  },
  {
   "cell_type": "code",
   "execution_count": null,
   "id": "2c1a65bb-d8b6-4d27-b9fc-6c6d41a75c03",
   "metadata": {},
   "outputs": [],
   "source": []
  }
 ],
 "metadata": {
  "kernelspec": {
   "display_name": "Python 3 (ipykernel)",
   "language": "python",
   "name": "python3"
  },
  "language_info": {
   "codemirror_mode": {
    "name": "ipython",
    "version": 3
   },
   "file_extension": ".py",
   "mimetype": "text/x-python",
   "name": "python",
   "nbconvert_exporter": "python",
   "pygments_lexer": "ipython3",
   "version": "3.13.2"
  }
 },
 "nbformat": 4,
 "nbformat_minor": 5
}
