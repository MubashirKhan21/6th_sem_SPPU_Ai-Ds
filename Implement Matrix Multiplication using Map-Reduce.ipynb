{
 "cells": [
  {
   "cell_type": "code",
   "execution_count": 1,
   "id": "b98b95c8-d751-45ab-9b07-86f9e72c42fb",
   "metadata": {},
   "outputs": [
    {
     "name": "stdout",
     "output_type": "stream",
     "text": [
      "Matrix input file created successfully!\n"
     ]
    }
   ],
   "source": [
    "file_content = \"\"\"A,0,0,2\n",
    "A,0,1,3\n",
    "A,1,0,4\n",
    "A,1,1,5\n",
    "B,0,0,6\n",
    "B,0,1,7\n",
    "B,1,0,8\n",
    "B,1,1,9\"\"\"\n",
    "\n",
    "with open(\"matrix.txt\", \"w\") as file:\n",
    "    file.write(file_content)\n",
    "\n",
    "print(\"Matrix input file created successfully!\")"
   ]
  },
  {
   "cell_type": "code",
   "execution_count": 1,
   "id": "755ac8f1-a698-4440-8760-e974b0ce100d",
   "metadata": {},
   "outputs": [
    {
     "name": "stdout",
     "output_type": "stream",
     "text": [
      "\n",
      "Resultant Matrix (A × B):\n",
      "[36, 41]\n",
      "[64, 73]\n"
     ]
    }
   ],
   "source": [
    "from collections import defaultdict\n",
    "\n",
    "# Define matrix dimensions (A is m×n, B is n×p)\n",
    "m, n, p = 2, 2, 2\n",
    "\n",
    "# **Mapper Function**\n",
    "def mapper(lines):\n",
    "    mapped_values = []\n",
    "    \n",
    "    for line in lines:\n",
    "        parts = line.strip().split(\",\")\n",
    "        matrix, row, col, value = parts[0], int(parts[1]), int(parts[2]), int(parts[3])\n",
    "\n",
    "        if matrix == \"A\":\n",
    "            for k in range(p):  # Loop over B's columns\n",
    "                mapped_values.append(((row, k), (\"A\", col, value)))\n",
    "        elif matrix == \"B\":\n",
    "            for i in range(m):  # Loop over A's rows\n",
    "                mapped_values.append(((i, col), (\"B\", row, value)))\n",
    "\n",
    "    return mapped_values\n",
    "\n",
    "# **Reducer Function**\n",
    "def reducer(mapped_values):\n",
    "    result = defaultdict(int)\n",
    "    grouped_data = defaultdict(list)\n",
    "\n",
    "    for key, value in mapped_values:\n",
    "        grouped_data[key].append(value)\n",
    "\n",
    "    for key, values in grouped_data.items():\n",
    "        a_values = {v[1]: v[2] for v in values if v[0] == \"A\"}\n",
    "        b_values = {v[1]: v[2] for v in values if v[0] == \"B\"}\n",
    "\n",
    "        for j in a_values:\n",
    "            if j in b_values:\n",
    "                result[key] += a_values[j] * b_values[j]\n",
    "\n",
    "    return result\n",
    "\n",
    "# **Read input file and apply MapReduce**\n",
    "with open(\"matrix.txt\", \"r\") as file:\n",
    "    lines = file.readlines()\n",
    "\n",
    "mapped_values = mapper(lines)\n",
    "final_result = reducer(mapped_values)\n",
    "\n",
    "# **Print Result**\n",
    "print(\"\\nResultant Matrix (A × B):\")\n",
    "for i in range(m):\n",
    "    row = [final_result.get((i, k), 0) for k in range(p)]\n",
    "    print(row)"
   ]
  },
  {
   "cell_type": "code",
   "execution_count": null,
   "id": "e419c668-2850-482d-bf0b-611f9a703090",
   "metadata": {},
   "outputs": [],
   "source": []
  }
 ],
 "metadata": {
  "kernelspec": {
   "display_name": "Python 3 (ipykernel)",
   "language": "python",
   "name": "python3"
  },
  "language_info": {
   "codemirror_mode": {
    "name": "ipython",
    "version": 3
   },
   "file_extension": ".py",
   "mimetype": "text/x-python",
   "name": "python",
   "nbconvert_exporter": "python",
   "pygments_lexer": "ipython3",
   "version": "3.13.2"
  }
 },
 "nbformat": 4,
 "nbformat_minor": 5
}
