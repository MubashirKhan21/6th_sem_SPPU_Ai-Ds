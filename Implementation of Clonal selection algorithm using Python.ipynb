{
 "cells": [
  {
   "cell_type": "code",
   "execution_count": 1,
   "id": "961b9e3d-0e93-4074-ae62-0d171569e62c",
   "metadata": {},
   "outputs": [
    {
     "name": "stdout",
     "output_type": "stream",
     "text": [
      "Generation 1: Best Fitness = 2.578374\n",
      "Generation 2: Best Fitness = 2.578374\n",
      "Generation 3: Best Fitness = 2.001040\n",
      "Generation 4: Best Fitness = 0.544500\n",
      "Generation 5: Best Fitness = 0.544500\n",
      "Generation 6: Best Fitness = 0.544500\n",
      "Generation 7: Best Fitness = 0.544500\n",
      "Generation 8: Best Fitness = 0.374092\n",
      "Generation 9: Best Fitness = 0.250015\n",
      "Generation 10: Best Fitness = 0.212501\n",
      "\n",
      "Best solution found: [ 0.24100444  0.24463507 -0.2410191  -0.15222192 -0.11536762]\n"
     ]
    }
   ],
   "source": [
    "import numpy as np\n",
    "\n",
    "# Objective Function (Minimize)\n",
    "def objective_function(x):\n",
    "    return np.sum(np.square(x))  # Sphere function\n",
    "\n",
    "# Initialize population\n",
    "def initialize_population(pop_size, dim, bounds):\n",
    "    return np.random.uniform(bounds[0], bounds[1], (pop_size, dim))\n",
    "\n",
    "# Evaluate fitness\n",
    "def evaluate_fitness(population):\n",
    "    return np.array([objective_function(ind) for ind in population])\n",
    "\n",
    "# Select top antibodies\n",
    "def select_best(population, fitness, num_best):\n",
    "    idx = np.argsort(fitness)\n",
    "    return population[idx[:num_best]], fitness[idx[:num_best]]\n",
    "\n",
    "# Clone antibodies\n",
    "def clone_antibodies(selected, clone_rate):\n",
    "    clones = []\n",
    "    for antibody in selected:\n",
    "        num_clones = int(clone_rate)\n",
    "        clones.extend([antibody.copy() for _ in range(num_clones)])\n",
    "    return np.array(clones)\n",
    "\n",
    "# Hypermutation\n",
    "def hypermutation(clones, fitness, beta=1.0):\n",
    "    mutated_clones = []\n",
    "    best_fit = np.min(fitness)\n",
    "    for i, clone in enumerate(clones):\n",
    "        mutation_rate = np.exp(-beta * (fitness[i] - best_fit))\n",
    "        mutation = mutation_rate * np.random.randn(*clone.shape)\n",
    "        mutated_clones.append(clone + mutation)\n",
    "    return np.array(mutated_clones)\n",
    "\n",
    "# Main CSA loop\n",
    "def clonal_selection_algorithm(pop_size=50, dim=5, bounds=(-5, 5), generations=10, num_best=10, clone_rate=5):\n",
    "    population = initialize_population(pop_size, dim, bounds)\n",
    "    \n",
    "    for gen in range(generations):\n",
    "        fitness = evaluate_fitness(population)\n",
    "        best, best_fitness = select_best(population, fitness, num_best)\n",
    "\n",
    "        clones = clone_antibodies(best, clone_rate)\n",
    "        clone_fitness = np.repeat(best_fitness, clone_rate)\n",
    "        mutated_clones = hypermutation(clones, clone_fitness)\n",
    "\n",
    "        mutated_fitness = evaluate_fitness(mutated_clones)\n",
    "        combined = np.vstack((population, mutated_clones))\n",
    "        combined_fitness = np.hstack((fitness, mutated_fitness))\n",
    "        \n",
    "        idx = np.argsort(combined_fitness)\n",
    "        population = combined[idx[:pop_size]]\n",
    "\n",
    "        best_solution = population[0]\n",
    "        print(f\"Generation {gen+1}: Best Fitness = {combined_fitness[idx[0]]:.6f}\")\n",
    "\n",
    "    return best_solution\n",
    "\n",
    "# Run the CSA for 10 generations\n",
    "best = clonal_selection_algorithm(generations=10)\n",
    "print(\"\\nBest solution found:\", best)"
   ]
  },
  {
   "cell_type": "code",
   "execution_count": null,
   "id": "4549691a-cfcf-4df3-993e-05ef5877fe5b",
   "metadata": {},
   "outputs": [],
   "source": []
  }
 ],
 "metadata": {
  "kernelspec": {
   "display_name": "Python 3 (ipykernel)",
   "language": "python",
   "name": "python3"
  },
  "language_info": {
   "codemirror_mode": {
    "name": "ipython",
    "version": 3
   },
   "file_extension": ".py",
   "mimetype": "text/x-python",
   "name": "python",
   "nbconvert_exporter": "python",
   "pygments_lexer": "ipython3",
   "version": "3.13.2"
  }
 },
 "nbformat": 4,
 "nbformat_minor": 5
}
